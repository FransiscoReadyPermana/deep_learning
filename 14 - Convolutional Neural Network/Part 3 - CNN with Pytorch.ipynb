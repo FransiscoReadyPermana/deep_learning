{
 "cells": [
  {
   "cell_type": "code",
   "execution_count": 2,
   "metadata": {},
   "outputs": [
    {
     "data": {
      "text/plain": [
       "device(type='cpu')"
      ]
     },
     "execution_count": 2,
     "metadata": {},
     "output_type": "execute_result"
    }
   ],
   "source": [
    "import jcopdl, luwiji\n",
    "import numpy as np\n",
    "import matplotlib.pyplot as plt\n",
    "import torch\n",
    "from torch import nn, optim\n",
    "from jcopdl.callback import Callback, set_config\n",
    "\n",
    "device = torch.device(\"cuda:0\" if torch.cuda.is_available() else \"cpu\")\n",
    "device"
   ]
  },
  {
   "attachments": {},
   "cell_type": "markdown",
   "metadata": {},
   "source": [
    "# Dataset dan DataLoader"
   ]
  },
  {
   "cell_type": "code",
   "execution_count": 4,
   "metadata": {},
   "outputs": [],
   "source": [
    "from torchvision import datasets, transforms\n",
    "from torch.utils.data import DataLoader\n",
    "\n",
    "bs = 128\n",
    "crop_size = 64\n",
    "\n",
    "train_transform = transforms.Compose([\n",
    "    transforms.RandomRotation(15),\n",
    "    transforms.RandomResizedCrop(crop_size, scale=(0.8, 1.0)),\n",
    "    transforms.RandomHorizontalFlip(),\n",
    "    transforms.ToTensor()\n",
    "])\n",
    "\n",
    "test_transform = transforms.Compose([\n",
    "    transforms.Resize(70),\n",
    "    transforms.CenterCrop(crop_size),\n",
    "    transforms.ToTensor()\n",
    "])\n",
    "\n",
    "train_set = datasets.ImageFolder(\"../../data CNN/train/\", transform=train_transform)\n",
    "trainloader = DataLoader(train_set, batch_size=bs, shuffle=True, num_workers=4)\n",
    "\n",
    "test_set = datasets.ImageFolder(\"../../data CNN/test/\", transform=test_transform)\n",
    "testloader = DataLoader(test_set, batch_size=bs, shuffle=True, num_workers=4)"
   ]
  },
  {
   "cell_type": "code",
   "execution_count": 5,
   "metadata": {},
   "outputs": [
    {
     "data": {
      "text/plain": [
       "torch.Size([128, 3, 64, 64])"
      ]
     },
     "execution_count": 5,
     "metadata": {},
     "output_type": "execute_result"
    }
   ],
   "source": [
    "features, labels = next(iter(trainloader))\n",
    "features.shape"
   ]
  },
  {
   "cell_type": "code",
   "execution_count": 6,
   "metadata": {},
   "outputs": [
    {
     "data": {
      "text/plain": [
       "['invasive', 'noninvasive']"
      ]
     },
     "execution_count": 6,
     "metadata": {},
     "output_type": "execute_result"
    }
   ],
   "source": [
    "label2cat = train_set.classes\n",
    "label2cat"
   ]
  },
  {
   "attachments": {},
   "cell_type": "markdown",
   "metadata": {},
   "source": [
    "# Arsitektur & Config"
   ]
  },
  {
   "cell_type": "code",
   "execution_count": null,
   "metadata": {},
   "outputs": [],
   "source": [
    "# nn.Conv2d(in_channels= 3, out_channels= 8, kernel_size= 3, stride=1, padding=1)\n",
    "# nn.ReLU()\n",
    "# nn.MaxPool2d(kernel_size=2, stride=2)"
   ]
  },
  {
   "cell_type": "code",
   "execution_count": null,
   "metadata": {},
   "outputs": [],
   "source": [
    "from jcopdl.layers import conv_block, linear_block\n",
    "\n",
    "class CNN(nn.Module):\n",
    "    def __init__(self):\n",
    "        super().__init__()\n",
    "        # c_out itu filter\n",
    "        self.conv = nn.Sequential(\n",
    "          # awalnya gambarnya 64 x 64\n",
    "            conv_block(c_in= 3, c_out= 8, pool_kernel='max'), # 32 x 32\n",
    "            conv_block(c_in= 8, c_out= 16, pool_kernel='max'), # 16 x 16\n",
    "            conv_block(c_in= 16, c_out= 32, pool_kernel='max'), # 8 x 8\n",
    "            conv_block(c_in= 32, c_out= 64, pool_kernel='max'), # 4 x 4\n",
    "            nn.Flatten(),\n",
    "        )\n",
    "        \n",
    "        self.fc = nn.Sequential(\n",
    "          # nah abis kena pooling, trus 64 nya itu dia dari c_out conv terakhir\n",
    "          linear_block(64*4*4, 256, activation='relu', dropout=0.1),\n",
    "          linear_block(256, 2, activation=\"lsoftmax\")\n",
    "        )\n",
    "        \n",
    "        \n",
    "    def forward(self, x):\n",
    "      self.conv(x)\n",
    "      self.fc(x)\n",
    "      return x\n"
   ]
  }
 ],
 "metadata": {
  "kernelspec": {
   "display_name": "Python 3",
   "language": "python",
   "name": "python3"
  },
  "language_info": {
   "codemirror_mode": {
    "name": "ipython",
    "version": 3
   },
   "file_extension": ".py",
   "mimetype": "text/x-python",
   "name": "python",
   "nbconvert_exporter": "python",
   "pygments_lexer": "ipython3",
   "version": "3.9.1rc1"
  },
  "orig_nbformat": 4,
  "vscode": {
   "interpreter": {
    "hash": "396c88b014bd8bfe05d6f1c112e64c0d1a9d3707305bd921cfc13ff3bcbcb566"
   }
  }
 },
 "nbformat": 4,
 "nbformat_minor": 2
}
