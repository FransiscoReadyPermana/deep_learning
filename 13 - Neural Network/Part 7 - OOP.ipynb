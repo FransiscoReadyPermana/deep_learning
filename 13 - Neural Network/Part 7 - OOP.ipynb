{
 "cells": [
  {
   "cell_type": "code",
   "execution_count": 7,
   "metadata": {},
   "outputs": [
    {
     "name": "stdout",
     "output_type": "stream",
     "text": [
      "Andi sedang berjalan\n"
     ]
    }
   ],
   "source": [
    "class manusia:\n",
    "    def __init__(self, warnaRambut, berat, tinggi, nama = \"bambang\", umur = 60):\n",
    "        # inisialisasi atribut\n",
    "        self.nama = nama\n",
    "        self.umur = umur\n",
    "        self.warnaRambut = warnaRambut\n",
    "        self.berat = berat\n",
    "        self.tinggi = tinggi\n",
    "    # method\n",
    "    def berjalan(self):\n",
    "        print(self.nama + \" sedang berjalan\")\n",
    "    def berbicara(self):\n",
    "        print(self.nama + \" sedang berbicara\")\n",
    "    def berlari(self):\n",
    "        print(self.nama + \" sedang berlari\")\n",
    "    def gantiWarnaRambut(self, warna):\n",
    "        print(self.nama + \" ganti warna rambut dari \" + self.warnaRambut + \" menjadi \" + warna)\n",
    "        self.warnaRambut = warna\n",
    "    def BMI(self):\n",
    "        return self.berat / (self.tinggi ** 2)\n",
    "# membuat objek manusia\n",
    "andi = manusia(nama=\"Andi\", umur = 20, warnaRambut=\"hitam\", berat=70, tinggi=1.7)\n",
    "andi.berjalan()"
   ]
  },
  {
   "cell_type": "code",
   "execution_count": 8,
   "metadata": {},
   "outputs": [
    {
     "data": {
      "text/plain": [
       "(20, 'Andi', 'hitam')"
      ]
     },
     "execution_count": 8,
     "metadata": {},
     "output_type": "execute_result"
    }
   ],
   "source": [
    "andi.umur, andi.nama, andi.warnaRambut"
   ]
  },
  {
   "cell_type": "code",
   "execution_count": 9,
   "metadata": {},
   "outputs": [
    {
     "name": "stdout",
     "output_type": "stream",
     "text": [
      "Andi ganti warna rambut dari hitam menjadi toska\n"
     ]
    }
   ],
   "source": [
    "andi.gantiWarnaRambut(\"toska\")"
   ]
  },
  {
   "cell_type": "code",
   "execution_count": 10,
   "metadata": {},
   "outputs": [
    {
     "data": {
      "text/plain": [
       "24.221453287197235"
      ]
     },
     "execution_count": 10,
     "metadata": {},
     "output_type": "execute_result"
    }
   ],
   "source": [
    "andi.BMI()"
   ]
  },
  {
   "cell_type": "code",
   "execution_count": 11,
   "metadata": {},
   "outputs": [
    {
     "name": "stdout",
     "output_type": "stream",
     "text": [
      "Andi sedang berlari\n"
     ]
    }
   ],
   "source": [
    "andi.berlari()"
   ]
  },
  {
   "cell_type": "code",
   "execution_count": 19,
   "metadata": {},
   "outputs": [
    {
     "data": {
      "text/plain": [
       "15"
      ]
     },
     "execution_count": 19,
     "metadata": {},
     "output_type": "execute_result"
    }
   ],
   "source": [
    "class coba:\n",
    "    def __init__(self, a, b):\n",
    "        self.a = a\n",
    "        self.b = b\n",
    "    def tambah(self):\n",
    "        return self.a + self.b\n",
    "    def kurang(self):\n",
    "        return self.a - self.b\n",
    "    def kali(self):\n",
    "        return self.a * self.b\n",
    "    def bagi(self):\n",
    "        return self.a / self.b\n",
    "\n",
    "coba1 = coba(10, 5)\n",
    "coba1.tambah()"
   ]
  },
  {
   "cell_type": "code",
   "execution_count": null,
   "metadata": {},
   "outputs": [],
   "source": []
  },
  {
   "attachments": {},
   "cell_type": "markdown",
   "metadata": {},
   "source": [
    "# Inheritance"
   ]
  },
  {
   "cell_type": "code",
   "execution_count": 22,
   "metadata": {},
   "outputs": [],
   "source": [
    "# Inheritance\n",
    "class mahasiswa(manusia, coba):\n",
    "    def __init__(self, nama, umur, warnaRambut, berat, tinggi, nim, jurusan, a, b):\n",
    "        manusia.__init__(self, warnaRambut, berat, tinggi, nama, umur)\n",
    "        coba.__init__(self, a, b)\n",
    "        self.nim = nim\n",
    "        self.jurusan = jurusan\n",
    "    def belajar(self):\n",
    "        print(self.nama + \" sedang belajar\")\n",
    "    def makan(self):\n",
    "        print(self.nama + \" sedang makan\")\n",
    "    def tidur(self):\n",
    "        print(self.nama + \" sedang tidur\")\n",
    "    def gantiJurusan(self, jurusan):\n",
    "        print(self.nama + \" ganti jurusan dari \" + self.jurusan + \" menjadi \" + jurusan + \" dengan NIM \" , self.a , self.b)\n",
    "        self.jurusan = jurusan\n",
    "\n",
    "\n",
    "# membuat objek mahasiswa\n",
    "budi = mahasiswa(nama = \"Budi\", umur =  20, warnaRambut = \"hitam\", berat = 70, tinggi = 1.7, nim = \"123456\", jurusan = \"Teknik Informatika\", a = 10, b = 5)"
   ]
  },
  {
   "cell_type": "code",
   "execution_count": 15,
   "metadata": {},
   "outputs": [
    {
     "data": {
      "text/plain": [
       "'Budi'"
      ]
     },
     "execution_count": 15,
     "metadata": {},
     "output_type": "execute_result"
    }
   ],
   "source": [
    "budi.nama"
   ]
  },
  {
   "cell_type": "code",
   "execution_count": 23,
   "metadata": {},
   "outputs": [
    {
     "name": "stdout",
     "output_type": "stream",
     "text": [
      "Budi ganti jurusan dari Teknik Informatika menjadi Teknik Industri dengan NIM  10 5\n"
     ]
    },
    {
     "data": {
      "text/plain": [
       "'Teknik Industri'"
      ]
     },
     "execution_count": 23,
     "metadata": {},
     "output_type": "execute_result"
    }
   ],
   "source": [
    "budi.gantiJurusan(\"Teknik Industri\")\n",
    "budi.jurusan"
   ]
  },
  {
   "attachments": {},
   "cell_type": "markdown",
   "metadata": {},
   "source": [
    "# Pytorch NN Module"
   ]
  },
  {
   "cell_type": "code",
   "execution_count": 24,
   "metadata": {},
   "outputs": [],
   "source": [
    "import torch \n",
    "import torch.nn as nn"
   ]
  },
  {
   "cell_type": "code",
   "execution_count": 37,
   "metadata": {},
   "outputs": [
    {
     "data": {
      "text/plain": [
       "tensor([[-0.2823, -0.0117]], grad_fn=<AddmmBackward0>)"
      ]
     },
     "execution_count": 37,
     "metadata": {},
     "output_type": "execute_result"
    }
   ],
   "source": [
    "class customNN(nn.Module):\n",
    "    def __init__(self, input_dim, hidden_dim, output_dim):\n",
    "        super(customNN, self).__init__()\n",
    "        self.fc1 = nn.Linear(input_dim, hidden_dim)\n",
    "        self.relu = nn.ReLU()\n",
    "        self.fc2 = nn.Linear(hidden_dim, output_dim)\n",
    "    def forward(self, x):\n",
    "        out = self.fc1(x)\n",
    "        out = self.relu(out)\n",
    "        out = self.fc2(out)\n",
    "        return out\n",
    "\n",
    "model = customNN(10, 20, 2)\n",
    "model.forward(torch.randn(1, 10))"
   ]
  },
  {
   "cell_type": "code",
   "execution_count": null,
   "metadata": {},
   "outputs": [],
   "source": []
  }
 ],
 "metadata": {
  "kernelspec": {
   "display_name": "Python 3",
   "language": "python",
   "name": "python3"
  },
  "language_info": {
   "codemirror_mode": {
    "name": "ipython",
    "version": 3
   },
   "file_extension": ".py",
   "mimetype": "text/x-python",
   "name": "python",
   "nbconvert_exporter": "python",
   "pygments_lexer": "ipython3",
   "version": "3.10.1"
  },
  "orig_nbformat": 4,
  "vscode": {
   "interpreter": {
    "hash": "8c7b6d6b8795746797002317ff44b439eafbd00de021c7e54e85ffe1424cd03a"
   }
  }
 },
 "nbformat": 4,
 "nbformat_minor": 2
}
