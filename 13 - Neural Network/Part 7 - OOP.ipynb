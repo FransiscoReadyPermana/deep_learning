{
 "cells": [
  {
   "cell_type": "code",
   "execution_count": 1,
   "metadata": {},
   "outputs": [
    {
     "name": "stdout",
     "output_type": "stream",
     "text": [
      "Andi sedang berjalan\n"
     ]
    }
   ],
   "source": [
    "class manusia:\n",
    "    def __init__(self, warnaRambut, berat, tinggi, nama = \"bambang\", umur = 60):\n",
    "        # inisialisasi atribut\n",
    "        self.nama = nama\n",
    "        self.umur = umur\n",
    "        self.warnaRambut = warnaRambut\n",
    "        self.berat = berat\n",
    "        self.tinggi = tinggi\n",
    "    # method\n",
    "    def berjalan(self):\n",
    "        print(self.nama + \" sedang berjalan\")\n",
    "    def berbicara(self):\n",
    "        print(self.nama + \" sedang berbicara\")\n",
    "    def berlari(self):\n",
    "        print(self.nama + \" sedang berlari\")\n",
    "    def gantiWarnaRambut(self, warna):\n",
    "        print(self.nama + \" ganti warna rambut dari \" + self.warnaRambut + \" menjadi \" + warna)\n",
    "        self.warnaRambut = warna\n",
    "    def BMI(self):\n",
    "        return self.berat / (self.tinggi ** 2)\n",
    "# membuat objek manusia\n",
    "andi = manusia(nama=\"Andi\", umur = 20, warnaRambut=\"hitam\", berat=70, tinggi=1.7)\n",
    "andi.berjalan()"
   ]
  },
  {
   "cell_type": "code",
   "execution_count": 2,
   "metadata": {},
   "outputs": [
    {
     "data": {
      "text/plain": [
       "(20, 'Andi', 'hitam')"
      ]
     },
     "execution_count": 2,
     "metadata": {},
     "output_type": "execute_result"
    }
   ],
   "source": [
    "andi.umur, andi.nama, andi.warnaRambut"
   ]
  },
  {
   "cell_type": "code",
   "execution_count": 3,
   "metadata": {},
   "outputs": [
    {
     "name": "stdout",
     "output_type": "stream",
     "text": [
      "Andi ganti warna rambut dari hitam menjadi toska\n"
     ]
    }
   ],
   "source": [
    "andi.gantiWarnaRambut(\"toska\")"
   ]
  },
  {
   "cell_type": "code",
   "execution_count": 4,
   "metadata": {},
   "outputs": [
    {
     "data": {
      "text/plain": [
       "24.221453287197235"
      ]
     },
     "execution_count": 4,
     "metadata": {},
     "output_type": "execute_result"
    }
   ],
   "source": [
    "andi.BMI()"
   ]
  },
  {
   "cell_type": "code",
   "execution_count": 5,
   "metadata": {},
   "outputs": [
    {
     "name": "stdout",
     "output_type": "stream",
     "text": [
      "Andi sedang berlari\n"
     ]
    }
   ],
   "source": [
    "andi.berlari()"
   ]
  },
  {
   "cell_type": "code",
   "execution_count": 6,
   "metadata": {},
   "outputs": [
    {
     "data": {
      "text/plain": [
       "15"
      ]
     },
     "execution_count": 6,
     "metadata": {},
     "output_type": "execute_result"
    }
   ],
   "source": [
    "class coba:\n",
    "    def __init__(self, a, b):\n",
    "        self.a = a\n",
    "        self.b = b\n",
    "    def tambah(self):\n",
    "        return self.a + self.b\n",
    "    def kurang(self):\n",
    "        return self.a - self.b\n",
    "    def kali(self):\n",
    "        return self.a * self.b\n",
    "    def bagi(self):\n",
    "        return self.a / self.b\n",
    "\n",
    "coba1 = coba(10, 5)\n",
    "coba1.tambah()"
   ]
  },
  {
   "cell_type": "code",
   "execution_count": null,
   "metadata": {},
   "outputs": [],
   "source": []
  },
  {
   "attachments": {},
   "cell_type": "markdown",
   "metadata": {},
   "source": [
    "# Inheritance"
   ]
  },
  {
   "cell_type": "code",
   "execution_count": 7,
   "metadata": {},
   "outputs": [],
   "source": [
    "# Inheritance\n",
    "class mahasiswa(manusia, coba):\n",
    "    def __init__(self, nama, umur, warnaRambut, berat, tinggi, nim, jurusan, a, b):\n",
    "        manusia.__init__(self, warnaRambut, berat, tinggi, nama, umur)\n",
    "        coba.__init__(self, a, b)\n",
    "        self.nim = nim\n",
    "        self.jurusan = jurusan\n",
    "    def belajar(self):\n",
    "        print(self.nama + \" sedang belajar\")\n",
    "    def makan(self):\n",
    "        print(self.nama + \" sedang makan\")\n",
    "    def tidur(self):\n",
    "        print(self.nama + \" sedang tidur\")\n",
    "    def gantiJurusan(self, jurusan):\n",
    "        print(self.nama + \" ganti jurusan dari \" + self.jurusan + \" menjadi \" + jurusan + \" dengan NIM \" , self.a , self.b)\n",
    "        self.jurusan = jurusan\n",
    "\n",
    "\n",
    "# membuat objek mahasiswa\n",
    "budi = mahasiswa(nama = \"Budi\", umur =  20, warnaRambut = \"hitam\", berat = 70, tinggi = 1.7, nim = \"123456\", jurusan = \"Teknik Informatika\", a = 10, b = 5)"
   ]
  },
  {
   "cell_type": "code",
   "execution_count": 8,
   "metadata": {},
   "outputs": [
    {
     "data": {
      "text/plain": [
       "'Budi'"
      ]
     },
     "execution_count": 8,
     "metadata": {},
     "output_type": "execute_result"
    }
   ],
   "source": [
    "budi.nama"
   ]
  },
  {
   "cell_type": "code",
   "execution_count": 9,
   "metadata": {},
   "outputs": [
    {
     "name": "stdout",
     "output_type": "stream",
     "text": [
      "Budi ganti jurusan dari Teknik Informatika menjadi Teknik Industri dengan NIM  10 5\n"
     ]
    },
    {
     "data": {
      "text/plain": [
       "'Teknik Industri'"
      ]
     },
     "execution_count": 9,
     "metadata": {},
     "output_type": "execute_result"
    }
   ],
   "source": [
    "budi.gantiJurusan(\"Teknik Industri\")\n",
    "budi.jurusan"
   ]
  },
  {
   "attachments": {},
   "cell_type": "markdown",
   "metadata": {},
   "source": [
    "# Pytorch NN Module"
   ]
  },
  {
   "cell_type": "code",
   "execution_count": 10,
   "metadata": {},
   "outputs": [],
   "source": [
    "import torch \n",
    "import torch.nn as nn"
   ]
  },
  {
   "cell_type": "code",
   "execution_count": 11,
   "metadata": {},
   "outputs": [
    {
     "name": "stderr",
     "output_type": "stream",
     "text": [
      "c:\\Users\\Toko Ferdi\\AppData\\Local\\Programs\\Python\\Python310\\lib\\site-packages\\torch\\nn\\modules\\linear.py:96: UserWarning: Failed to initialize NumPy: module compiled against API version 0x10 but this version of numpy is 0xf (Triggered internally at ..\\torch\\csrc\\utils\\tensor_numpy.cpp:77.)\n",
      "  self.weight = Parameter(torch.empty((out_features, in_features), **factory_kwargs))\n"
     ]
    },
    {
     "data": {
      "text/plain": [
       "tensor([[-0.2864,  0.1301]], grad_fn=<AddmmBackward0>)"
      ]
     },
     "execution_count": 11,
     "metadata": {},
     "output_type": "execute_result"
    }
   ],
   "source": [
    "class customNN(nn.Module):\n",
    "    def __init__(self, input_dim, hidden_dim, output_dim):\n",
    "        super(customNN, self).__init__()\n",
    "        self.fc1 = nn.Linear(input_dim, hidden_dim)\n",
    "        self.relu = nn.ReLU()\n",
    "        self.fc2 = nn.Linear(hidden_dim, output_dim)\n",
    "    def forward(self, x):\n",
    "        out = self.fc1(x)\n",
    "        out = self.relu(out)\n",
    "        out = self.fc2(out)\n",
    "        return out\n",
    "    \n",
    "\n",
    "model = customNN(10, 20, 2)\n",
    "model.forward(torch.randn(1, 10))"
   ]
  },
  {
   "cell_type": "code",
   "execution_count": 16,
   "metadata": {},
   "outputs": [
    {
     "data": {
      "text/plain": [
       "tensor([[0.3456, 0.5607]], grad_fn=<SigmoidBackward0>)"
      ]
     },
     "execution_count": 16,
     "metadata": {},
     "output_type": "execute_result"
    }
   ],
   "source": [
    "class customNeuranN(nn.Module):\n",
    "  def __init__(self, input_dim, hidden_dim, output_dim):\n",
    "    super(customNeuranN, self).__init__()\n",
    "    self.fc = nn.Sequential(\n",
    "        nn.Linear(input_dim, hidden_dim),\n",
    "        nn.ReLU(),\n",
    "        nn.Linear(hidden_dim, output_dim),\n",
    "        nn.Sigmoid()\n",
    "    )\n",
    "  def forward(self, x):\n",
    "    out = self.fc(x)\n",
    "    return out\n",
    "\n",
    "model = customNeuranN(10, 20, 2)\n",
    "model.forward(torch.randn(1, 10))"
   ]
  },
  {
   "cell_type": "code",
   "execution_count": 17,
   "metadata": {},
   "outputs": [
    {
     "data": {
      "text/plain": [
       "tensor([[0.4659, 0.3583]], grad_fn=<SigmoidBackward0>)"
      ]
     },
     "execution_count": 17,
     "metadata": {},
     "output_type": "execute_result"
    }
   ],
   "source": [
    "# bikin custom neural network multitask\n",
    "class customNeuranNetwork(nn.Module):\n",
    "  def __init__(self, input_dim, hidden_dim, output_dim):\n",
    "    super(customNeuranN, self).__init__()\n",
    "    self.fc = nn.Sequential(\n",
    "        nn.Linear(input_dim, hidden_dim),\n",
    "        nn.ReLU(),\n",
    "        nn.Linear(hidden_dim, output_dim),\n",
    "        nn.Sigmoid()\n",
    "    )\n",
    "    self.reg = nn.Sequential(\n",
    "        nn.Linear(input_dim, hidden_dim),\n",
    "        nn.ReLU(),\n",
    "        nn.Linear(hidden_dim, output_dim),\n",
    "    )\n",
    "\n",
    "    self.clf = nn.Sequential(\n",
    "        nn.Linear(input_dim, hidden_dim),\n",
    "        nn.ReLU(),\n",
    "        nn.Linear(hidden_dim, output_dim),\n",
    "        nn.Sigmoid()\n",
    "    )\n",
    "\n",
    "  def forward(self, x):\n",
    "    x = self.fc(x)\n",
    "    out_reg = self.reg(x)\n",
    "    out_clf = self.clf(x)\n",
    "    return out_reg, out_clf\n",
    "\n",
    "model = customNeuranN(10, 20, 2)\n",
    "model.forward(torch.randn(1, 10))"
   ]
  },
  {
   "cell_type": "code",
   "execution_count": null,
   "metadata": {},
   "outputs": [],
   "source": []
  }
 ],
 "metadata": {
  "kernelspec": {
   "display_name": "Python 3",
   "language": "python",
   "name": "python3"
  },
  "language_info": {
   "codemirror_mode": {
    "name": "ipython",
    "version": 3
   },
   "file_extension": ".py",
   "mimetype": "text/x-python",
   "name": "python",
   "nbconvert_exporter": "python",
   "pygments_lexer": "ipython3",
   "version": "3.9.2rc1 (tags/v3.9.2rc1:4064156, Feb 17 2021, 11:25:18) [MSC v.1928 64 bit (AMD64)]"
  },
  "orig_nbformat": 4,
  "vscode": {
   "interpreter": {
    "hash": "755e15bed6fc9ade0daf09b0010f91a60e0178968bacb85eb90c166eff0028b1"
   }
  }
 },
 "nbformat": 4,
 "nbformat_minor": 2
}
