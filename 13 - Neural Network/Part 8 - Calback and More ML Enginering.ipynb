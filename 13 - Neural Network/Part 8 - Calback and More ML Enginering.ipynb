{
 "cells": [
  {
   "cell_type": "code",
   "execution_count": 3,
   "metadata": {},
   "outputs": [
    {
     "name": "stderr",
     "output_type": "stream",
     "text": [
      "C:\\Users\\TOKOFE~1\\AppData\\Local\\Temp/ipykernel_9288/1981384850.py:5: UserWarning: Failed to initialize NumPy: module compiled against API version 0x10 but this version of numpy is 0xf (Triggered internally at ..\\torch\\csrc\\utils\\tensor_numpy.cpp:77.)\n",
      "  device = torch.device(\"cuda\" if torch.cuda.is_available() else \"cpu\")\n"
     ]
    }
   ],
   "source": [
    "import torch\n",
    "import torch.nn as nn\n",
    "from jcopdl.callback import Callback\n",
    "\n",
    "device = torch.device(\"cuda\" if torch.cuda.is_available() else \"cpu\")"
   ]
  },
  {
   "attachments": {},
   "cell_type": "markdown",
   "metadata": {},
   "source": [
    "# Dataset & DataLoader"
   ]
  },
  {
   "cell_type": "code",
   "execution_count": 4,
   "metadata": {},
   "outputs": [],
   "source": [
    "from torchvision import datasets, transforms\n",
    "from torch.utils.data import DataLoader"
   ]
  },
  {
   "cell_type": "code",
   "execution_count": 8,
   "metadata": {},
   "outputs": [],
   "source": [
    "# kalo bentukanya data tabular, tinggal ganti image folder jadi tensor dataset\n",
    "# train_set = datasets.TensorDataset(torch.tensor(X_train), torch.tensor(y_train))\n",
    "# kalo bentuknya speech, tinggal ganti image folder jadi audio folder\n",
    "# train_set = datasets.AudioFolder(\"../../data neural network/train\", transform=transforms.ToTensor())\n",
    "\n",
    "transform = transforms.Compose([\n",
    "    transforms.Grayscale(),\n",
    "    transforms.ToTensor(),\n",
    "    # transforms.Normalize((0.1307,), (0.3081,))\n",
    "])\n",
    "\n",
    "# kalo bentuknya image, tinggal ganti tensor dataset jadi image folder\n",
    "train_set = datasets.ImageFolder(\"../../data neural network/train\", transform=transform)\n",
    "test_set = datasets.ImageFolder(\"../../data neural network/test\", transform=transform)\n",
    "\n",
    "train_loader = DataLoader(train_set, batch_size=128, shuffle=True, num_workers=4)\n",
    "test_loader = DataLoader(test_set, batch_size=128, shuffle=False, num_workers=4)"
   ]
  },
  {
   "cell_type": "code",
   "execution_count": null,
   "metadata": {},
   "outputs": [],
   "source": []
  }
 ],
 "metadata": {
  "kernelspec": {
   "display_name": "Python 3",
   "language": "python",
   "name": "python3"
  },
  "language_info": {
   "codemirror_mode": {
    "name": "ipython",
    "version": 3
   },
   "file_extension": ".py",
   "mimetype": "text/x-python",
   "name": "python",
   "nbconvert_exporter": "python",
   "pygments_lexer": "ipython3",
   "version": "3.10.1"
  },
  "orig_nbformat": 4,
  "vscode": {
   "interpreter": {
    "hash": "8c7b6d6b8795746797002317ff44b439eafbd00de021c7e54e85ffe1424cd03a"
   }
  }
 },
 "nbformat": 4,
 "nbformat_minor": 2
}
