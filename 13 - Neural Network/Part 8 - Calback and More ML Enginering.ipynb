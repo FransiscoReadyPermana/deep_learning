{
 "cells": [
  {
   "cell_type": "code",
   "execution_count": 1,
   "metadata": {},
   "outputs": [
    {
     "name": "stderr",
     "output_type": "stream",
     "text": [
      "c:\\Users\\Toko Ferdi\\AppData\\Local\\Programs\\Python\\Python39\\lib\\site-packages\\tqdm\\auto.py:22: TqdmWarning: IProgress not found. Please update jupyter and ipywidgets. See https://ipywidgets.readthedocs.io/en/stable/user_install.html\n",
      "  from .autonotebook import tqdm as notebook_tqdm\n"
     ]
    }
   ],
   "source": [
    "import torch\n",
    "import torch.nn as nn\n",
    "from jcopdl.callback import Callback, set_config\n",
    "import numpy as np\n",
    "\n",
    "device = torch.device(\"cuda\" if torch.cuda.is_available() else \"cpu\")"
   ]
  },
  {
   "attachments": {},
   "cell_type": "markdown",
   "metadata": {},
   "source": [
    "# Dataset & DataLoader"
   ]
  },
  {
   "cell_type": "code",
   "execution_count": 2,
   "metadata": {},
   "outputs": [],
   "source": [
    "from torchvision import datasets, transforms\n",
    "from torch.utils.data import DataLoader"
   ]
  },
  {
   "cell_type": "code",
   "execution_count": 3,
   "metadata": {},
   "outputs": [],
   "source": [
    "# kalo bentukanya data tabular, tinggal ganti image folder jadi tensor dataset\n",
    "# train_set = datasets.TensorDataset(torch.tensor(X_train), torch.tensor(y_train))\n",
    "# kalo bentuknya speech, tinggal ganti image folder jadi audio folder\n",
    "# train_set = datasets.AudioFolder(\"../../data neural network/train\", transform=transforms.ToTensor())\n",
    "\n",
    "transform = transforms.Compose([\n",
    "    transforms.Grayscale(),\n",
    "    transforms.ToTensor(),\n",
    "    # transforms.Normalize((0.1307,), (0.3081,))\n",
    "])\n",
    "\n",
    "# kalo bentuknya image, tinggal ganti tensor dataset jadi image folder\n",
    "train_set = datasets.ImageFolder(\"../../data neural network/train\", transform=transform)\n",
    "test_set = datasets.ImageFolder(\"../../data neural network/test\", transform=transform)\n",
    "\n",
    "train_loader = DataLoader(train_set, batch_size=128, shuffle=True, num_workers=4)\n",
    "test_loader = DataLoader(test_set, batch_size=128, shuffle=False, num_workers=4)"
   ]
  },
  {
   "cell_type": "code",
   "execution_count": 4,
   "metadata": {},
   "outputs": [],
   "source": [
    "images, labels = next(iter(train_loader))"
   ]
  },
  {
   "cell_type": "code",
   "execution_count": 5,
   "metadata": {},
   "outputs": [
    {
     "data": {
      "text/plain": [
       "(torch.Size([128, 1, 28, 28]), torch.Size([128]))"
      ]
     },
     "execution_count": 5,
     "metadata": {},
     "output_type": "execute_result"
    }
   ],
   "source": [
    "# MCHW (batch / jumlah gambar, channel, height, width)\n",
    "images.shape, labels.shape"
   ]
  },
  {
   "cell_type": "code",
   "execution_count": 6,
   "metadata": {},
   "outputs": [
    {
     "data": {
      "text/plain": [
       "{'Ankle boot': 0,\n",
       " 'Bag': 1,\n",
       " 'Coat': 2,\n",
       " 'Dress': 3,\n",
       " 'Pullover': 4,\n",
       " 'Sandal': 5,\n",
       " 'Shirt': 6,\n",
       " 'Sneaker': 7,\n",
       " 'T-shirt or Top': 8,\n",
       " 'Trouser': 9}"
      ]
     },
     "execution_count": 6,
     "metadata": {},
     "output_type": "execute_result"
    }
   ],
   "source": [
    "train_set.class_to_idx"
   ]
  },
  {
   "cell_type": "code",
   "execution_count": 7,
   "metadata": {},
   "outputs": [],
   "source": [
    "label2cat = train_set.classes"
   ]
  },
  {
   "cell_type": "code",
   "execution_count": 8,
   "metadata": {},
   "outputs": [
    {
     "data": {
      "text/plain": [
       "['Ankle boot',\n",
       " 'Bag',\n",
       " 'Coat',\n",
       " 'Dress',\n",
       " 'Pullover',\n",
       " 'Sandal',\n",
       " 'Shirt',\n",
       " 'Sneaker',\n",
       " 'T-shirt or Top',\n",
       " 'Trouser']"
      ]
     },
     "execution_count": 8,
     "metadata": {},
     "output_type": "execute_result"
    }
   ],
   "source": [
    "label2cat"
   ]
  },
  {
   "attachments": {},
   "cell_type": "markdown",
   "metadata": {},
   "source": [
    "# Arsitektur & Config"
   ]
  },
  {
   "cell_type": "code",
   "execution_count": 9,
   "metadata": {},
   "outputs": [],
   "source": [
    "from jcopdl.layers import linear_block"
   ]
  },
  {
   "cell_type": "code",
   "execution_count": 10,
   "metadata": {},
   "outputs": [
    {
     "data": {
      "text/plain": [
       "fashionClf(\n",
       "  (fc): Sequential(\n",
       "    (0): Flatten(start_dim=1, end_dim=-1)\n",
       "    (1): Sequential(\n",
       "      (0): Linear(in_features=784, out_features=512, bias=True)\n",
       "      (1): BatchNorm1d(512, eps=1e-05, momentum=0.1, affine=True, track_running_stats=True)\n",
       "      (2): ReLU()\n",
       "      (3): Dropout(p=0.2, inplace=False)\n",
       "    )\n",
       "    (2): Sequential(\n",
       "      (0): Linear(in_features=512, out_features=256, bias=True)\n",
       "      (1): BatchNorm1d(256, eps=1e-05, momentum=0.1, affine=True, track_running_stats=True)\n",
       "      (2): ReLU()\n",
       "      (3): Dropout(p=0.2, inplace=False)\n",
       "    )\n",
       "    (3): Sequential(\n",
       "      (0): Linear(in_features=256, out_features=128, bias=True)\n",
       "      (1): BatchNorm1d(128, eps=1e-05, momentum=0.1, affine=True, track_running_stats=True)\n",
       "      (2): ReLU()\n",
       "      (3): Dropout(p=0.2, inplace=False)\n",
       "    )\n",
       "    (4): Sequential(\n",
       "      (0): Linear(in_features=128, out_features=64, bias=True)\n",
       "      (1): BatchNorm1d(64, eps=1e-05, momentum=0.1, affine=True, track_running_stats=True)\n",
       "      (2): ReLU()\n",
       "      (3): Dropout(p=0.2, inplace=False)\n",
       "    )\n",
       "    (5): Sequential(\n",
       "      (0): Linear(in_features=64, out_features=10, bias=True)\n",
       "      (1): LogSoftmax(dim=1)\n",
       "    )\n",
       "  )\n",
       ")"
      ]
     },
     "execution_count": 10,
     "metadata": {},
     "output_type": "execute_result"
    }
   ],
   "source": [
    "class fashionClf(nn.Module):\n",
    "    def __init__(self):\n",
    "        super().__init__()\n",
    "        self.fc = nn.Sequential(\n",
    "            nn.Flatten(),\n",
    "            linear_block(784, 512, dropout=0.2, batch_norm=True),\n",
    "            linear_block(512, 256, dropout=0.2, batch_norm=True),\n",
    "            linear_block(256, 128, dropout=0.2, batch_norm=True),\n",
    "            linear_block(128, 64, dropout=0.2, batch_norm=True),\n",
    "            linear_block(64, 10, activation=\"lsoftmax\", batch_norm=False)\n",
    "        )\n",
    "        \n",
    "    def forward(self, x):\n",
    "        return self.fc(x)\n",
    "\n",
    "model = fashionClf().to(device)\n",
    "model"
   ]
  },
  {
   "cell_type": "code",
   "execution_count": 11,
   "metadata": {},
   "outputs": [],
   "source": [
    "config = set_config({\n",
    "  \"input_size\":784, \n",
    "  \"n1\":256, \n",
    "  \"n2\":64, \n",
    "  \"output_size\":len(train_set.classes),\n",
    "  \"dropout\":0.2\n",
    "})"
   ]
  },
  {
   "cell_type": "code",
   "execution_count": 12,
   "metadata": {},
   "outputs": [],
   "source": [
    "class fashionClassifier(nn.Module):\n",
    "    def __init__(self, input_size, n1, n2, output_size, dropout=0.2):\n",
    "        super().__init__()\n",
    "        self.fc = nn.Sequential(\n",
    "            nn.Flatten(),\n",
    "            linear_block(input_size, n1, dropout=dropout, batch_norm=True),\n",
    "            linear_block(n1, n2, dropout=0.2, batch_norm=True),\n",
    "            linear_block(n2, output_size, activation=\"lsoftmax\", batch_norm=False)\n",
    "        )\n",
    "        \n",
    "    def forward(self, x):\n",
    "        return self.fc(x)\n",
    "\n",
    "# cari set config yg bukan dari wira\n",
    "\n",
    "model = fashionClassifier(input_size=784, n1=256, n2=64, output_size=len(train_set.classes)).to(device)"
   ]
  },
  {
   "attachments": {},
   "cell_type": "markdown",
   "metadata": {},
   "source": [
    "# Training Preparation => MCOC"
   ]
  },
  {
   "cell_type": "code",
   "execution_count": 13,
   "metadata": {},
   "outputs": [],
   "source": [
    "model = fashionClassifier(input_size=784, n1=256, n2=64, output_size=len(train_set.classes)).to(device)\n",
    "criterion = nn.NLLLoss()\n",
    "optimizer = torch.optim.AdamW(model.parameters(), lr=0.01)\n",
    "callback = Callback(model, config, outdir=\"model\")"
   ]
  },
  {
   "attachments": {},
   "cell_type": "markdown",
   "metadata": {},
   "source": [
    "# Training"
   ]
  },
  {
   "cell_type": "code",
   "execution_count": 14,
   "metadata": {},
   "outputs": [],
   "source": [
    "from tqdm.auto import tqdm\n",
    "\n",
    "def loop(mode, datasets, dataloader, model, criterion, optimizer, device):\n",
    "    if mode == \"train\":\n",
    "        model.train()\n",
    "    else:\n",
    "        model.eval()\n",
    "    cost = correct = 0\n",
    "    for feature, target in dataloader:\n",
    "        feature, target = feature.to(device), target.to(device)\n",
    "        output = model(feature)\n",
    "        loss = criterion(output, target)\n",
    "        \n",
    "        if mode == \"train\":\n",
    "            optimizer.zero_grad()\n",
    "            loss.backward()\n",
    "            optimizer.step()\n",
    "\n",
    "        cost += loss.item() * len(feature)\n",
    "        correct += (output.argmax(dim=1) == target).sum().item()\n",
    "    cost /= len(datasets)\n",
    "    acc = correct / len(datasets)\n",
    "    return cost, acc\n"
   ]
  },
  {
   "cell_type": "code",
   "execution_count": 15,
   "metadata": {},
   "outputs": [],
   "source": [
    "# def train(model, criterion, optimizer, train_loader, test_loader, device, epochs=10):\n",
    "#     for epoch in range(1, epochs+1):\n",
    "#         train_cost, train_acc = loop(\"train\", train_loader.dataset, train_loader, model, criterion, optimizer, device)\n",
    "#         test_cost, test_acc = loop(\"test\", test_loader.dataset, test_loader, model, criterion, optimizer, device)\n",
    "#         print(f\"Epoch {epoch:2d} | train_cost: {train_cost:.4f} | train_acc: {train_acc:.4f} | test_cost: {test_cost:.4f} | test_acc: {test_acc:.4f}\")\n",
    "    \n",
    "# train(model, criterion, optimizer, train_loader, test_loader, device, epochs=10)"
   ]
  },
  {
   "cell_type": "code",
   "execution_count": 17,
   "metadata": {},
   "outputs": [
    {
     "name": "stdout",
     "output_type": "stream",
     "text": [
      "\n",
      "Epoch     1\n",
      "Train_cost  = 0.4224 | Test_cost  = 0.8491 | Train_score = 0.3679 | Test_score = 0.8645 |\n",
      "\n",
      "Epoch     2\n",
      "Train_cost  = 0.3839 | Test_cost  = 0.8625 | Train_score = 0.3661 | Test_score = 0.8598 |\n",
      "\u001b[31m==> EarlyStop patience =  1 | Best test_score: 0.8645\u001b[0m\n",
      "\n",
      "Epoch     3\n",
      "Train_cost  = 0.3537 | Test_cost  = 0.8706 | Train_score = 0.3466 | Test_score = 0.8706 |\n",
      "\n",
      "Epoch     4\n",
      "Train_cost  = 0.3378 | Test_cost  = 0.8756 | Train_score = 0.3405 | Test_score = 0.8728 |\n",
      "\n",
      "Epoch     5\n",
      "Train_cost  = 0.3246 | Test_cost  = 0.8800 | Train_score = 0.3658 | Test_score = 0.8605 |\n",
      "\u001b[31m==> EarlyStop patience =  1 | Best test_score: 0.8728\u001b[0m\n",
      "\n",
      "Epoch     6\n",
      "Train_cost  = 0.3167 | Test_cost  = 0.8836 | Train_score = 0.3307 | Test_score = 0.8763 |\n",
      "\n",
      "Epoch     7\n",
      "Train_cost  = 0.3023 | Test_cost  = 0.8889 | Train_score = 0.3398 | Test_score = 0.8690 |\n",
      "\u001b[31m==> EarlyStop patience =  1 | Best test_score: 0.8763\u001b[0m\n",
      "\n",
      "Epoch     8\n",
      "Train_cost  = 0.2918 | Test_cost  = 0.8923 | Train_score = 0.3361 | Test_score = 0.8766 |\n",
      "\n",
      "Epoch     9\n",
      "Train_cost  = 0.2853 | Test_cost  = 0.8959 | Train_score = 0.3212 | Test_score = 0.8812 |\n",
      "\n",
      "Epoch    10\n",
      "Train_cost  = 0.2765 | Test_cost  = 0.8977 | Train_score = 0.3229 | Test_score = 0.8837 |\n",
      "\n",
      "Epoch    11\n",
      "Train_cost  = 0.2734 | Test_cost  = 0.8978 | Train_score = 0.3095 | Test_score = 0.8848 |\n",
      "\n",
      "Epoch    12\n",
      "Train_cost  = 0.2639 | Test_cost  = 0.9020 | Train_score = 0.3227 | Test_score = 0.8812 |\n",
      "\u001b[31m==> EarlyStop patience =  1 | Best test_score: 0.8848\u001b[0m\n",
      "\n",
      "Epoch    13\n",
      "Train_cost  = 0.2581 | Test_cost  = 0.9037 | Train_score = 0.3320 | Test_score = 0.8804 |\n",
      "\u001b[31m==> EarlyStop patience =  2 | Best test_score: 0.8848\u001b[0m\n",
      "\n",
      "Epoch    14\n",
      "Train_cost  = 0.2558 | Test_cost  = 0.9056 | Train_score = 0.3343 | Test_score = 0.8776 |\n",
      "\u001b[31m==> EarlyStop patience =  3 | Best test_score: 0.8848\u001b[0m\n",
      "\n",
      "Epoch    15\n",
      "Train_cost  = 0.2536 | Test_cost  = 0.9053 | Train_score = 0.3185 | Test_score = 0.8865 |\n",
      "\n",
      "Epoch    16\n",
      "Train_cost  = 0.2447 | Test_cost  = 0.9081 | Train_score = 0.3309 | Test_score = 0.8841 |\n",
      "\u001b[31m==> EarlyStop patience =  1 | Best test_score: 0.8865\u001b[0m\n",
      "\n",
      "Epoch    17\n",
      "Train_cost  = 0.2422 | Test_cost  = 0.9095 | Train_score = 0.3373 | Test_score = 0.8767 |\n",
      "\u001b[31m==> EarlyStop patience =  2 | Best test_score: 0.8865\u001b[0m\n",
      "\n",
      "Epoch    18\n",
      "Train_cost  = 0.2314 | Test_cost  = 0.9121 | Train_score = 0.3335 | Test_score = 0.8782 |\n",
      "\u001b[31m==> EarlyStop patience =  3 | Best test_score: 0.8865\u001b[0m\n"
     ]
    }
   ],
   "source": [
    "while True:\n",
    "  train_cost, train_score = loop(\"train\", train_loader.dataset, train_loader, model, criterion, optimizer, device)\n",
    "  with torch.no_grad():\n",
    "    test_cost, test_score = loop(\"test\", test_loader.dataset, test_loader, model, criterion, optimizer, device)\n",
    "\n",
    "  # logging\n",
    "  callback.log(train_cost, train_score, test_cost, test_score)\n",
    "\n",
    "  # checkpoint\n",
    "  callback.save_checkpoint()\n",
    "\n",
    "  # runtime plot\n",
    "  callback.cost_runtime_plotting()\n",
    "  callback.score_runtime_plotting()\n",
    "\n",
    "  if callback.early_stopping(model, monitor = \"test_score\"):\n",
    "    callback.plot_cost()\n",
    "    callback.plot_score()\n",
    "    print(\"Early stopping\")\n",
    "    break\n",
    "  \n"
   ]
  },
  {
   "cell_type": "code",
   "execution_count": null,
   "metadata": {},
   "outputs": [],
   "source": []
  }
 ],
 "metadata": {
  "kernelspec": {
   "display_name": "Python 3",
   "language": "python",
   "name": "python3"
  },
  "language_info": {
   "codemirror_mode": {
    "name": "ipython",
    "version": 3
   },
   "file_extension": ".py",
   "mimetype": "text/x-python",
   "name": "python",
   "nbconvert_exporter": "python",
   "pygments_lexer": "ipython3",
   "version": "3.9.2rc1"
  },
  "orig_nbformat": 4,
  "vscode": {
   "interpreter": {
    "hash": "755e15bed6fc9ade0daf09b0010f91a60e0178968bacb85eb90c166eff0028b1"
   }
  }
 },
 "nbformat": 4,
 "nbformat_minor": 2
}
